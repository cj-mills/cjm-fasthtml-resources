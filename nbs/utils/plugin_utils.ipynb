{
 "cells": [
  {
   "cell_type": "markdown",
   "id": "0d073d49",
   "metadata": {},
   "source": [
    "# Plugin Resource Utilities\n",
    "\n",
    "> Utilities for analyzing plugin configurations and resource requirements\n",
    "\n",
    "These utilities work with any plugin metadata that has a `config_schema` attribute, including `PluginMetadata` from `cjm-fasthtml-plugins`."
   ]
  },
  {
   "cell_type": "code",
   "execution_count": null,
   "id": "aacb50d6",
   "metadata": {},
   "outputs": [],
   "source": [
    "#| default_exp utils.plugin_utils"
   ]
  },
  {
   "cell_type": "code",
   "execution_count": null,
   "id": "63dee1af",
   "metadata": {},
   "outputs": [],
   "source": [
    "#| hide\n",
    "from nbdev.showdoc import *"
   ]
  },
  {
   "cell_type": "code",
   "execution_count": null,
   "id": "ec70c4fb",
   "metadata": {},
   "outputs": [],
   "source": [
    "#| export\n",
    "from typing import Dict, Any, Optional\n",
    "\n",
    "from cjm_fasthtml_resources.core.manager import PLUGIN_RESOURCE_CONFIG_KEYS"
   ]
  },
  {
   "cell_type": "markdown",
   "id": "0041c729",
   "metadata": {},
   "source": [
    "## Plugin Type Detection\n",
    "\n",
    "Helper functions to determine if a plugin is local vs API-based."
   ]
  },
  {
   "cell_type": "code",
   "execution_count": null,
   "id": "9b2a5832",
   "metadata": {},
   "outputs": [],
   "source": [
    "#| export\n",
    "def is_local_plugin(plugin_meta) -> bool:\n",
    "    \"\"\"\n",
    "    Check if a plugin is local (vs API-based).\n",
    "    \n",
    "    Args:\n",
    "        plugin_meta: Plugin metadata with config_schema attribute\n",
    "    \n",
    "    Returns:\n",
    "        True if plugin is local, False if API-based\n",
    "    \"\"\"\n",
    "    if not hasattr(plugin_meta, 'config_schema') or not plugin_meta.config_schema:\n",
    "        return False\n",
    "\n",
    "    # Check if schema has an api_key property\n",
    "    properties = plugin_meta.config_schema.get('properties', {})\n",
    "    return 'api_key' not in properties"
   ]
  },
  {
   "cell_type": "markdown",
   "id": "358169f4",
   "metadata": {},
   "source": [
    "Example plugin metadata structure:\n",
    "\n",
    "```python\n",
    "# Local plugin (works with any metadata object with config_schema)\n",
    "local_plugin = PluginMetadata(\n",
    "    name=\"whisper\",\n",
    "    config_schema={\n",
    "        \"properties\": {\n",
    "            \"model_id\": {\"type\": \"string\"},\n",
    "            \"device\": {\"type\": \"string\"}\n",
    "        }\n",
    "    }\n",
    ")\n",
    "\n",
    "# API-based plugin  \n",
    "api_plugin = PluginMetadata(\n",
    "    name=\"openai-whisper\",\n",
    "    config_schema={\n",
    "        \"properties\": {\n",
    "            \"api_key\": {\"type\": \"string\"},  # Presence of api_key indicates API-based\n",
    "            \"model\": {\"type\": \"string\"}\n",
    "        }\n",
    "    }\n",
    ")\n",
    "```\n",
    "\n",
    "**Compatibility**: These utilities are compatible with:\n",
    "- `PluginMetadata` from `cjm-fasthtml-plugins`\n",
    "- `SimplePluginRegistry` from `cjm-fasthtml-settings`\n",
    "- `UnifiedPluginRegistry` from `cjm-fasthtml-plugins`\n",
    "- Any custom object with a `config_schema` attribute"
   ]
  },
  {
   "cell_type": "markdown",
   "id": "55ba6142",
   "metadata": {},
   "source": [
    "## GPU Detection\n",
    "\n",
    "Helper functions to determine if a plugin will use GPU resources."
   ]
  },
  {
   "cell_type": "code",
   "execution_count": null,
   "id": "0c49bb05",
   "metadata": {},
   "outputs": [],
   "source": [
    "#| export\n",
    "def uses_gpu_device(plugin_config: Dict[str, Any]) -> bool:\n",
    "    \"\"\"\n",
    "    Check if a plugin is configured to use GPU.\n",
    "    \n",
    "    Args:\n",
    "        plugin_config: The plugin's current configuration\n",
    "    \n",
    "    Returns:\n",
    "        True if plugin will use GPU, False otherwise\n",
    "    \"\"\"\n",
    "    device = plugin_config.get('device', '').lower()\n",
    "\n",
    "    # Check for explicit GPU indicators\n",
    "    if device and device != 'cpu':\n",
    "        # Could be 'cuda', 'gpu', 'cuda:0', 'auto', etc.\n",
    "        if 'cuda' in device or 'gpu' in device or device.startswith('mps') or device == 'auto':\n",
    "            return True\n",
    "\n",
    "    return False"
   ]
  },
  {
   "cell_type": "code",
   "execution_count": null,
   "id": "23794e3e",
   "metadata": {},
   "outputs": [
    {
     "name": "stdout",
     "output_type": "stream",
     "text": [
      "Device 'cuda': GPU=True\n",
      "Device 'cuda:0': GPU=True\n",
      "Device 'cpu': GPU=False\n",
      "Device 'auto': GPU=True\n",
      "Device 'mps': GPU=True\n",
      "Device '(not specified)': GPU=False\n"
     ]
    }
   ],
   "source": [
    "# Example: Check various device configurations\n",
    "configs = [\n",
    "    {\"device\": \"cuda\"},\n",
    "    {\"device\": \"cuda:0\"},\n",
    "    {\"device\": \"cpu\"},\n",
    "    {\"device\": \"auto\"},\n",
    "    {\"device\": \"mps\"},\n",
    "    {}  # No device specified\n",
    "]\n",
    "\n",
    "for config in configs:\n",
    "    device = config.get(\"device\", \"(not specified)\")\n",
    "    uses_gpu = uses_gpu_device(config)\n",
    "    print(f\"Device '{device}': GPU={uses_gpu}\")"
   ]
  },
  {
   "cell_type": "markdown",
   "id": "009f183f",
   "metadata": {},
   "source": [
    "## Resource Identifier Extraction\n",
    "\n",
    "Extract the plugin resource identifier (model ID, model path, etc.) from configuration."
   ]
  },
  {
   "cell_type": "code",
   "execution_count": null,
   "id": "9dee4fc7",
   "metadata": {},
   "outputs": [],
   "source": [
    "#| export\n",
    "def get_plugin_resource_identifier(plugin_config: Dict[str, Any]) -> Optional[str]:\n",
    "    \"\"\"\n",
    "    Extract the plugin resource identifier from plugin configuration.\n",
    "    \n",
    "    Checks common plugin resource configuration keys like 'resource_id', 'model_id', \n",
    "    'model', 'model_name', etc.\n",
    "    \n",
    "    Args:\n",
    "        plugin_config: The plugin's configuration\n",
    "    \n",
    "    Returns:\n",
    "        Plugin resource identifier string, or None if not found\n",
    "    \"\"\"\n",
    "    for key in PLUGIN_RESOURCE_CONFIG_KEYS:\n",
    "        if key in plugin_config:\n",
    "            value = plugin_config[key]\n",
    "            if value:\n",
    "                return str(value)\n",
    "\n",
    "    return None"
   ]
  },
  {
   "cell_type": "code",
   "execution_count": null,
   "id": "fd389d23",
   "metadata": {},
   "outputs": [
    {
     "name": "stdout",
     "output_type": "stream",
     "text": [
      "Config {'model_id': 'whisper-large-v3', 'device': 'cuda'}: Resource ID = whisper-large-v3\n",
      "Config {'model': 'llama-3.1-8b', 'device': 'auto'}: Resource ID = llama-3.1-8b\n",
      "Config {'model_path': '/models/custom-model', 'device': 'cpu'}: Resource ID = /models/custom-model\n",
      "Config {'device': 'cuda'}: Resource ID = None\n"
     ]
    }
   ],
   "source": [
    "# Example: Extract resource identifiers from different configs\n",
    "configs = [\n",
    "    {\"model_id\": \"whisper-large-v3\", \"device\": \"cuda\"},\n",
    "    {\"model\": \"llama-3.1-8b\", \"device\": \"auto\"},\n",
    "    {\"model_path\": \"/models/custom-model\", \"device\": \"cpu\"},\n",
    "    {\"device\": \"cuda\"}  # No resource ID\n",
    "]\n",
    "\n",
    "for config in configs:\n",
    "    resource_id = get_plugin_resource_identifier(config)\n",
    "    print(f\"Config {config}: Resource ID = {resource_id}\")"
   ]
  },
  {
   "cell_type": "markdown",
   "id": "7c0b3c4e",
   "metadata": {},
   "source": [
    "## Resource Comparison\n",
    "\n",
    "Compare two plugin configurations to determine if they use the same resource."
   ]
  },
  {
   "cell_type": "code",
   "execution_count": null,
   "id": "62076731",
   "metadata": {},
   "outputs": [],
   "source": [
    "#| export\n",
    "def compare_plugin_resources(\n",
    "    config1: Dict[str, Any],\n",
    "    config2: Dict[str, Any]\n",
    ") -> bool:\n",
    "    \"\"\"\n",
    "    Compare two plugin configurations to see if they use the same plugin resource.\n",
    "    \n",
    "    Args:\n",
    "        config1: First plugin configuration\n",
    "        config2: Second plugin configuration\n",
    "    \n",
    "    Returns:\n",
    "        True if both configs specify the same plugin resource, False otherwise\n",
    "    \"\"\"\n",
    "    resource1 = get_plugin_resource_identifier(config1)\n",
    "    resource2 = get_plugin_resource_identifier(config2)\n",
    "\n",
    "    # Both must have resource identifiers to compare\n",
    "    if resource1 is None or resource2 is None:\n",
    "        return False\n",
    "\n",
    "    return resource1 == resource2"
   ]
  },
  {
   "cell_type": "code",
   "execution_count": null,
   "id": "d505fa92",
   "metadata": {},
   "outputs": [
    {
     "name": "stdout",
     "output_type": "stream",
     "text": [
      "A vs B (same resource): True\n",
      "A vs C (different resource): False\n",
      "B vs C (different resource): False\n"
     ]
    }
   ],
   "source": [
    "# Example: Compare configurations\n",
    "config_a = {\"model_id\": \"whisper-large-v3\", \"device\": \"cuda\"}\n",
    "config_b = {\"model_id\": \"whisper-large-v3\", \"device\": \"cpu\"}  # Same resource, different device\n",
    "config_c = {\"model_id\": \"whisper-medium\", \"device\": \"cuda\"}  # Different resource\n",
    "\n",
    "print(f\"A vs B (same resource): {compare_plugin_resources(config_a, config_b)}\")\n",
    "print(f\"A vs C (different resource): {compare_plugin_resources(config_a, config_c)}\")\n",
    "print(f\"B vs C (different resource): {compare_plugin_resources(config_b, config_c)}\")"
   ]
  },
  {
   "cell_type": "markdown",
   "id": "25c058da",
   "metadata": {},
   "source": [
    "## Combined Resource Requirements\n",
    "\n",
    "Get comprehensive resource requirements for a plugin."
   ]
  },
  {
   "cell_type": "code",
   "execution_count": null,
   "id": "3b3bfd55",
   "metadata": {},
   "outputs": [],
   "source": [
    "#| export\n",
    "def get_plugin_resource_requirements(\n",
    "    plugin_id: str,\n",
    "    plugin_registry,  # Plugin registry with get_plugin, load_plugin_config methods\n",
    "    plugin_config: Optional[Dict[str, Any]] = None\n",
    ") -> Dict[str, Any]:\n",
    "    \"\"\"\n",
    "    Get resource requirements for a plugin.\n",
    "    \n",
    "    Args:\n",
    "        plugin_id: Unique plugin ID\n",
    "        plugin_registry: Plugin registry instance\n",
    "        plugin_config: Optional plugin configuration\n",
    "    \n",
    "    Returns:\n",
    "        Dictionary with resource requirement information:\n",
    "        - is_local: Whether it's a local plugin\n",
    "        - uses_gpu: Whether it uses GPU\n",
    "        - plugin_resource: Resource identifier\n",
    "        - device: Device configuration\n",
    "    \"\"\"\n",
    "    plugin_meta = plugin_registry.get_plugin(plugin_id)\n",
    "\n",
    "    if not plugin_meta:\n",
    "        return {\n",
    "            'is_local': False,\n",
    "            'uses_gpu': False,\n",
    "            'plugin_resource': None\n",
    "        }\n",
    "\n",
    "    is_local = is_local_plugin(plugin_meta)\n",
    "\n",
    "    if not is_local:\n",
    "        return {\n",
    "            'is_local': False,\n",
    "            'uses_gpu': False,\n",
    "            'plugin_resource': None\n",
    "        }\n",
    "\n",
    "    # Load config if not provided\n",
    "    if plugin_config is None:\n",
    "        plugin_config = plugin_registry.load_plugin_config(plugin_id)\n",
    "\n",
    "    uses_gpu = uses_gpu_device(plugin_config)\n",
    "    resource = get_plugin_resource_identifier(plugin_config)\n",
    "\n",
    "    return {\n",
    "        'is_local': is_local,\n",
    "        'uses_gpu': uses_gpu,\n",
    "        'plugin_resource': resource,\n",
    "        'device': plugin_config.get('device', 'unknown')\n",
    "    }"
   ]
  },
  {
   "cell_type": "markdown",
   "id": "3cdbda2b",
   "metadata": {},
   "source": [
    "This function is the main entry point for getting plugin resource information. It combines all the other utility functions to provide a complete picture of a plugin's resource requirements."
   ]
  },
  {
   "cell_type": "code",
   "execution_count": null,
   "id": "6aa5fe9d",
   "metadata": {},
   "outputs": [],
   "source": [
    "#| hide\n",
    "import nbdev; nbdev.nbdev_export()"
   ]
  }
 ],
 "metadata": {
  "kernelspec": {
   "display_name": "python3",
   "language": "python",
   "name": "python3"
  }
 },
 "nbformat": 4,
 "nbformat_minor": 5
}
