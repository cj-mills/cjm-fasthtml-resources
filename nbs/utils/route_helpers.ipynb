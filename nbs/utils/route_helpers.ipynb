{
 "cells": [
  {
   "cell_type": "markdown",
   "id": "4115a0d9",
   "metadata": {},
   "source": [
    "# Route Helpers\n",
    "\n",
    "> Helper utilities for resource monitoring route handlers"
   ]
  },
  {
   "cell_type": "code",
   "execution_count": null,
   "id": "60ac19d5",
   "metadata": {},
   "outputs": [],
   "source": [
    "#| default_exp utils.route_helpers"
   ]
  },
  {
   "cell_type": "code",
   "execution_count": null,
   "id": "a6d9ad3a",
   "metadata": {},
   "outputs": [],
   "source": [
    "#| hide\n",
    "from nbdev.showdoc import *"
   ]
  },
  {
   "cell_type": "code",
   "execution_count": null,
   "id": "e6712c72",
   "metadata": {},
   "outputs": [],
   "source": [
    "#| export\n",
    "from typing import Callable, Dict, Any"
   ]
  },
  {
   "cell_type": "markdown",
   "id": "118970c1",
   "metadata": {},
   "source": [
    "## Card Container Wrapper\n",
    "\n",
    "Wrap card content in a styled container for consistent presentation."
   ]
  },
  {
   "cell_type": "code",
   "execution_count": null,
   "id": "261789a6",
   "metadata": {},
   "outputs": [],
   "source": [
    "#| export\n",
    "def wrap_card_in_container(content, html_id, card_cls=None, bg_cls=None, shadow_cls=None, **kwargs):\n",
    "    \"\"\"\n",
    "    Wrap card content in a Div container with standard styling.\n",
    "    \n",
    "    This consolidates the common pattern of wrapping monitoring cards\n",
    "    in styled containers.\n",
    "    \n",
    "    Args:\n",
    "        content: Card content to wrap\n",
    "        html_id: HTML ID for the container\n",
    "        card_cls: Card class (optional, can be provided via DaisyUI)\n",
    "        bg_cls: Background class (optional, can be provided via DaisyUI)\n",
    "        shadow_cls: Shadow class (optional, can be provided via Tailwind)\n",
    "        **kwargs: Additional attributes for the Div\n",
    "    \n",
    "    Returns:\n",
    "        Div: Wrapped card container\n",
    "    \"\"\"\n",
    "    # This function provides a reusable pattern but remains flexible\n",
    "    # Applications can provide their own styling classes\n",
    "    \n",
    "    try:\n",
    "        from fasthtml.common import Div\n",
    "        from cjm_fasthtml_tailwind.core.base import combine_classes\n",
    "        \n",
    "        # Build class list\n",
    "        classes = []\n",
    "        if card_cls:\n",
    "            classes.append(card_cls)\n",
    "        if bg_cls:\n",
    "            classes.append(bg_cls)\n",
    "        if shadow_cls:\n",
    "            classes.append(shadow_cls)\n",
    "        \n",
    "        cls = combine_classes(*classes) if classes else None\n",
    "        \n",
    "        return Div(\n",
    "            content,\n",
    "            cls=cls,\n",
    "            id=html_id,\n",
    "            **kwargs\n",
    "        )\n",
    "    except ImportError:\n",
    "        # Fallback if dependencies not available\n",
    "        return content"
   ]
  },
  {
   "cell_type": "markdown",
   "id": "f88de5ed",
   "metadata": {},
   "source": [
    "Example usage with DaisyUI and Tailwind:\n",
    "\n",
    "```python\n",
    "from cjm_fasthtml_daisyui.components.data_display.card import card\n",
    "from cjm_fasthtml_daisyui.utilities.semantic_colors import bg_dui\n",
    "from cjm_fasthtml_tailwind.utilities.effects import shadow\n",
    "\n",
    "wrapped = wrap_card_in_container(\n",
    "    my_card_content,\n",
    "    html_id=\"my-card\",\n",
    "    card_cls=card,\n",
    "    bg_cls=bg_dui.base_100,\n",
    "    shadow_cls=shadow.md\n",
    ")\n",
    "```"
   ]
  },
  {
   "cell_type": "markdown",
   "id": "2493babc",
   "metadata": {},
   "source": [
    "## OOB Card Update Helper\n",
    "\n",
    "Create out-of-band (OOB) swap updates for cards in SSE streaming."
   ]
  },
  {
   "cell_type": "code",
   "execution_count": null,
   "id": "73e201bc",
   "metadata": {},
   "outputs": [],
   "source": [
    "#| export\n",
    "def create_card_update(\n",
    "    render_fn: Callable, \n",
    "    info: Dict[str, Any], \n",
    "    target_id: str, \n",
    "    swap_type: str = \"outerHTML\"\n",
    "):\n",
    "    \"\"\"\n",
    "    Create an OOB swap update for a card.\n",
    "    \n",
    "    This consolidates the pattern of creating OOB swaps for card updates\n",
    "    in SSE streaming.\n",
    "    \n",
    "    Args:\n",
    "        render_fn: Function to render the card\n",
    "        info: Info dictionary to pass to render function\n",
    "        target_id: Target HTML ID for the swap\n",
    "        swap_type: Type of swap (default \"outerHTML\")\n",
    "    \n",
    "    Returns:\n",
    "        OOB swap element\n",
    "    \"\"\"\n",
    "    try:\n",
    "        from cjm_fasthtml_sse.helpers import oob_swap\n",
    "        \n",
    "        return oob_swap(\n",
    "            render_fn(info),\n",
    "            target_id=target_id,\n",
    "            swap_type=swap_type\n",
    "        )\n",
    "    except ImportError:\n",
    "        # Fallback if SSE library not available\n",
    "        return render_fn(info)"
   ]
  },
  {
   "cell_type": "markdown",
   "id": "3bd3c436",
   "metadata": {},
   "source": [
    "Example usage in SSE streaming:\n",
    "\n",
    "```python\n",
    "from cjm_fasthtml_sysmon.components.cards import render_cpu_card\n",
    "from cjm_fasthtml_sysmon.monitors.cpu import get_cpu_info\n",
    "\n",
    "# In your SSE streaming function\n",
    "async def stream_updates():\n",
    "    while True:\n",
    "        cpu_info = get_cpu_info()\n",
    "        \n",
    "        # Create OOB update for CPU card\n",
    "        update = create_card_update(\n",
    "            render_cpu_card,\n",
    "            cpu_info,\n",
    "            \"cpu-card-body\"\n",
    "        )\n",
    "        \n",
    "        yield sse_message(Div(update))\n",
    "        await asyncio.sleep(2)\n",
    "```"
   ]
  },
  {
   "cell_type": "markdown",
   "id": "19d47e50",
   "metadata": {},
   "source": [
    "These helpers reduce boilerplate code when working with resource monitoring routes and SSE updates. They provide a consistent pattern while remaining flexible enough to work with different styling libraries and update strategies."
   ]
  },
  {
   "cell_type": "code",
   "execution_count": null,
   "id": "34051b7d",
   "metadata": {},
   "outputs": [],
   "source": [
    "#| hide\n",
    "import nbdev; nbdev.nbdev_export()"
   ]
  }
 ],
 "metadata": {
  "kernelspec": {
   "display_name": "python3",
   "language": "python",
   "name": "python3"
  }
 },
 "nbformat": 4,
 "nbformat_minor": 5
}
