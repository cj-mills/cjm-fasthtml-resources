{
 "cells": [
  {
   "cell_type": "markdown",
   "id": "17e58b00",
   "metadata": {},
   "source": [
    "# Management Configuration\n",
    "\n",
    "> Configuration schema for resource management settings including GPU thresholds"
   ]
  },
  {
   "cell_type": "code",
   "execution_count": null,
   "id": "87847844",
   "metadata": {},
   "outputs": [],
   "source": [
    "#| default_exp core.management_config"
   ]
  },
  {
   "cell_type": "code",
   "execution_count": null,
   "id": "47eea4c7",
   "metadata": {},
   "outputs": [],
   "source": [
    "#| hide\n",
    "from nbdev.showdoc import *"
   ]
  },
  {
   "cell_type": "markdown",
   "id": "31533dc7",
   "metadata": {},
   "source": [
    "## Resource Management Schema\n",
    "\n",
    "This schema defines configuration options for resource usage thresholds and conflict detection. It works with the cjm-fasthtml-settings library for automatic UI generation."
   ]
  },
  {
   "cell_type": "code",
   "execution_count": null,
   "id": "c1c9865e",
   "metadata": {},
   "outputs": [],
   "source": [
    "#| export\n",
    "# Resource management configuration schema\n",
    "RESOURCE_MANAGEMENT_SCHEMA = {\n",
    "    \"type\": \"object\",\n",
    "    \"name\": \"resource-management\",\n",
    "    \"title\": \"Resource Management Configuration\",\n",
    "    \"menu_title\": \"Resource Management\",\n",
    "    \"description\": \"Configure resource usage thresholds and conflict detection\",\n",
    "    \"properties\": {\n",
    "        \"gpu_memory_threshold_percent\": {\n",
    "            \"type\": \"number\",\n",
    "            \"title\": \"GPU Memory Threshold (%)\",\n",
    "            \"description\": \"External processes using more than this percentage of GPU memory are considered conflicts\",\n",
    "            \"minimum\": 1,\n",
    "            \"maximum\": 99,\n",
    "            \"default\": 35.0\n",
    "        },\n",
    "        \"enable_auto_unload\": {\n",
    "            \"type\": \"boolean\",\n",
    "            \"title\": \"Auto-Unload Idle Models\",\n",
    "            \"description\": \"Automatically unload idle models when switching to a different plugin\",\n",
    "            \"default\": True\n",
    "        },\n",
    "        \"enable_auto_reload\": {\n",
    "            \"type\": \"boolean\",\n",
    "            \"title\": \"Auto-Reload Models\",\n",
    "            \"description\": \"Automatically reload models when configuration changes\",\n",
    "            \"default\": True\n",
    "        }\n",
    "    },\n",
    "    \"required\": []\n",
    "}"
   ]
  },
  {
   "cell_type": "code",
   "execution_count": null,
   "id": "c5613283",
   "metadata": {},
   "outputs": [
    {
     "name": "stdout",
     "output_type": "stream",
     "text": [
      "Schema name: resource-management\n",
      "Schema title: Resource Management Configuration\n",
      "\n",
      "Default settings:\n",
      "  GPU threshold: 35.0%\n",
      "  Auto-unload: True\n",
      "  Auto-reload: True\n"
     ]
    }
   ],
   "source": [
    "# Example: Accessing schema properties\n",
    "print(f\"Schema name: {RESOURCE_MANAGEMENT_SCHEMA['name']}\")\n",
    "print(f\"Schema title: {RESOURCE_MANAGEMENT_SCHEMA['title']}\")\n",
    "print(f\"\\nDefault settings:\")\n",
    "print(f\"  GPU threshold: {RESOURCE_MANAGEMENT_SCHEMA['properties']['gpu_memory_threshold_percent']['default']}%\")\n",
    "print(f\"  Auto-unload: {RESOURCE_MANAGEMENT_SCHEMA['properties']['enable_auto_unload']['default']}\")\n",
    "print(f\"  Auto-reload: {RESOURCE_MANAGEMENT_SCHEMA['properties']['enable_auto_reload']['default']}\")"
   ]
  },
  {
   "cell_type": "markdown",
   "id": "44be469a",
   "metadata": {},
   "source": [
    "### GPU Memory Threshold\n",
    "\n",
    "The `gpu_memory_threshold_percent` setting determines what percentage of GPU memory usage by an external process is considered a conflict. This helps filter out processes that are just using trivial amounts of GPU memory.\n",
    "\n",
    "For example, with a threshold of 45%:\n",
    "- A Chrome tab using 100MB of a 24GB GPU (0.4%) → Not a conflict\n",
    "- A game using 12GB of a 24GB GPU (50%) → Conflict detected\n",
    "\n",
    "### Auto-Unload and Auto-Reload\n",
    "\n",
    "These boolean settings control automatic plugin management:\n",
    "\n",
    "- **Auto-Unload**: When enabled, switching to a different plugin automatically unloads the previously loaded plugin to free GPU memory\n",
    "- **Auto-Reload**: When enabled, configuration changes automatically reload the plugin with the new settings"
   ]
  },
  {
   "cell_type": "code",
   "execution_count": null,
   "id": "091641b4",
   "metadata": {},
   "outputs": [],
   "source": [
    "#| hide\n",
    "import nbdev; nbdev.nbdev_export()"
   ]
  }
 ],
 "metadata": {
  "kernelspec": {
   "display_name": "python3",
   "language": "python",
   "name": "python3"
  }
 },
 "nbformat": 4,
 "nbformat_minor": 5
}
