{
 "cells": [
  {
   "cell_type": "markdown",
   "id": "e35690fa",
   "metadata": {},
   "source": [
    "# Monitoring Configuration\n",
    "\n",
    "> Configuration schema for resource monitoring refresh intervals and SSE settings"
   ]
  },
  {
   "cell_type": "code",
   "execution_count": null,
   "id": "134fb808",
   "metadata": {},
   "outputs": [],
   "source": [
    "#| default_exp core.monitoring_config"
   ]
  },
  {
   "cell_type": "code",
   "execution_count": null,
   "id": "b3adc910",
   "metadata": {},
   "outputs": [],
   "source": [
    "#| hide\n",
    "from nbdev.showdoc import *"
   ]
  },
  {
   "cell_type": "code",
   "execution_count": null,
   "id": "895664ff",
   "metadata": {},
   "outputs": [],
   "source": [
    "#| export\n",
    "import time"
   ]
  },
  {
   "cell_type": "markdown",
   "id": "4c6a7592",
   "metadata": {},
   "source": [
    "## Resource Monitoring Schema\n",
    "\n",
    "This schema defines configuration options for real-time system resource monitoring. It's designed to work with the cjm-fasthtml-settings library for automatic UI generation."
   ]
  },
  {
   "cell_type": "code",
   "execution_count": null,
   "id": "ae0dc158",
   "metadata": {},
   "outputs": [],
   "source": [
    "#| export\n",
    "# Resource monitoring configuration schema\n",
    "RESOURCE_MONITOR_SCHEMA = {\n",
    "    \"type\": \"object\",\n",
    "    \"name\": \"resource-monitoring\",\n",
    "    \"title\": \"Resource Monitor Configuration\",\n",
    "    \"menu_title\": \"Resource Monitoring\",\n",
    "    \"description\": \"Configure real-time system resource monitoring refresh intervals\",\n",
    "    \"properties\": {\n",
    "        \"cpu_interval\": {\n",
    "            \"type\": \"integer\",\n",
    "            \"title\": \"CPU Update Interval (seconds)\",\n",
    "            \"description\": \"How often to update CPU usage information\",\n",
    "            \"minimum\": 1,\n",
    "            \"maximum\": 60,\n",
    "            \"default\": 2\n",
    "        },\n",
    "        \"memory_interval\": {\n",
    "            \"type\": \"integer\",\n",
    "            \"title\": \"Memory Update Interval (seconds)\",\n",
    "            \"description\": \"How often to update memory usage information\",\n",
    "            \"minimum\": 1,\n",
    "            \"maximum\": 60,\n",
    "            \"default\": 3\n",
    "        },\n",
    "        \"disk_interval\": {\n",
    "            \"type\": \"integer\",\n",
    "            \"title\": \"Disk Update Interval (seconds)\",\n",
    "            \"description\": \"How often to update disk usage information\",\n",
    "            \"minimum\": 5,\n",
    "            \"maximum\": 300,\n",
    "            \"default\": 10\n",
    "        },\n",
    "        \"network_interval\": {\n",
    "            \"type\": \"integer\",\n",
    "            \"title\": \"Network Update Interval (seconds)\",\n",
    "            \"description\": \"How often to update network statistics\",\n",
    "            \"minimum\": 1,\n",
    "            \"maximum\": 60,\n",
    "            \"default\": 3\n",
    "        },\n",
    "        \"process_interval\": {\n",
    "            \"type\": \"integer\",\n",
    "            \"title\": \"Process Update Interval (seconds)\",\n",
    "            \"description\": \"How often to update process information\",\n",
    "            \"minimum\": 1,\n",
    "            \"maximum\": 60,\n",
    "            \"default\": 5\n",
    "        },\n",
    "        \"gpu_interval\": {\n",
    "            \"type\": \"integer\",\n",
    "            \"title\": \"GPU Update Interval (seconds)\",\n",
    "            \"description\": \"How often to update GPU information (if available)\",\n",
    "            \"minimum\": 1,\n",
    "            \"maximum\": 60,\n",
    "            \"default\": 5\n",
    "        },\n",
    "        \"temperature_interval\": {\n",
    "            \"type\": \"integer\",\n",
    "            \"title\": \"Temperature Update Interval (seconds)\",\n",
    "            \"description\": \"How often to update temperature sensor readings\",\n",
    "            \"minimum\": 1,\n",
    "            \"maximum\": 60,\n",
    "            \"default\": 5\n",
    "        },\n",
    "        \"top_processes_count\": {\n",
    "            \"type\": \"integer\",\n",
    "            \"title\": \"Top Processes Count\",\n",
    "            \"description\": \"Number of top processes to display by CPU and memory usage\",\n",
    "            \"minimum\": 3,\n",
    "            \"maximum\": 20,\n",
    "            \"default\": 5\n",
    "        }\n",
    "    },\n",
    "    \"required\": []\n",
    "}"
   ]
  },
  {
   "cell_type": "code",
   "execution_count": null,
   "id": "fb2779d8",
   "metadata": {},
   "outputs": [
    {
     "name": "stdout",
     "output_type": "stream",
     "text": [
      "Schema name: resource-monitoring\n",
      "Schema title: Resource Monitor Configuration\n",
      "\n",
      "Default intervals:\n",
      "  CPU: 2s\n",
      "  Memory: 3s\n",
      "  GPU: 5s\n"
     ]
    }
   ],
   "source": [
    "# Example: Accessing schema properties\n",
    "print(f\"Schema name: {RESOURCE_MONITOR_SCHEMA['name']}\")\n",
    "print(f\"Schema title: {RESOURCE_MONITOR_SCHEMA['title']}\")\n",
    "print(f\"\\nDefault intervals:\")\n",
    "print(f\"  CPU: {RESOURCE_MONITOR_SCHEMA['properties']['cpu_interval']['default']}s\")\n",
    "print(f\"  Memory: {RESOURCE_MONITOR_SCHEMA['properties']['memory_interval']['default']}s\")\n",
    "print(f\"  GPU: {RESOURCE_MONITOR_SCHEMA['properties']['gpu_interval']['default']}s\")"
   ]
  },
  {
   "cell_type": "markdown",
   "id": "10a6ae8d",
   "metadata": {},
   "source": [
    "## Last Update Tracking\n",
    "\n",
    "Track last update times for each monitoring component. This is runtime state, not part of the configuration."
   ]
  },
  {
   "cell_type": "code",
   "execution_count": null,
   "id": "5a418f16",
   "metadata": {},
   "outputs": [],
   "source": [
    "#| export\n",
    "# Track last update times for each component (runtime state, not config)\n",
    "LAST_UPDATE_TIMES = {\n",
    "    'cpu': 0,\n",
    "    'memory': 0,\n",
    "    'disk': 0,\n",
    "    'network': 0,\n",
    "    'process': 0,\n",
    "    'gpu': 0,\n",
    "    'temperature': 0\n",
    "}"
   ]
  },
  {
   "cell_type": "markdown",
   "id": "adafcc93",
   "metadata": {},
   "source": [
    "## SSE Configuration\n",
    "\n",
    "Configuration for Server-Sent Events (SSE) streaming. These settings are not exposed in the UI but can be adjusted programmatically."
   ]
  },
  {
   "cell_type": "code",
   "execution_count": null,
   "id": "111d4506",
   "metadata": {},
   "outputs": [],
   "source": [
    "#| export\n",
    "# SSE Configuration (not exposed in settings UI)\n",
    "SSE_CONFIG = {\n",
    "    'max_queue_size': 100,\n",
    "    'history_size': 50,\n",
    "    'default_timeout': 0.1\n",
    "}"
   ]
  },
  {
   "cell_type": "code",
   "execution_count": null,
   "id": "c5c6037a",
   "metadata": {},
   "outputs": [
    {
     "name": "stdout",
     "output_type": "stream",
     "text": [
      "CPU update needed!\n",
      "\n",
      "SSE queue size: 100\n"
     ]
    }
   ],
   "source": [
    "# Example: Using the last update times\n",
    "import time\n",
    "\n",
    "# Simulate checking if an update is needed\n",
    "cpu_interval = RESOURCE_MONITOR_SCHEMA['properties']['cpu_interval']['default']\n",
    "current_time = time.time()\n",
    "\n",
    "if current_time - LAST_UPDATE_TIMES['cpu'] >= cpu_interval:\n",
    "    print(\"CPU update needed!\")\n",
    "    LAST_UPDATE_TIMES['cpu'] = current_time\n",
    "else:\n",
    "    print(\"CPU update not yet needed\")\n",
    "\n",
    "print(f\"\\nSSE queue size: {SSE_CONFIG['max_queue_size']}\")"
   ]
  },
  {
   "cell_type": "code",
   "execution_count": null,
   "id": "b5230af1",
   "metadata": {},
   "outputs": [],
   "source": [
    "#| hide\n",
    "import nbdev; nbdev.nbdev_export()"
   ]
  }
 ],
 "metadata": {
  "kernelspec": {
   "display_name": "python3",
   "language": "python",
   "name": "python3"
  }
 },
 "nbformat": 4,
 "nbformat_minor": 5
}
